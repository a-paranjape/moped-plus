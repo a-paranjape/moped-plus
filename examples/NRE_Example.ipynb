{
 "cells": [
  {
   "cell_type": "code",
   "execution_count": 1,
   "id": "c0aff408-aed4-41f1-aded-b79340f0ec91",
   "metadata": {},
   "outputs": [],
   "source": [
    "import numpy as np\n",
    "import sys\n",
    "from scipy import linalg\n",
    "\n",
    "sys.path.append('../code/')\n",
    "from sbi import NeuralRatioEstimator\n",
    "\n",
    "from time import time\n",
    "\n",
    "import matplotlib.pyplot as plt\n",
    "from matplotlib import gridspec\n",
    "import matplotlib as mpl\n",
    "import matplotlib.colors as pltcol\n",
    "import gc"
   ]
  },
  {
   "cell_type": "code",
   "execution_count": 2,
   "id": "9c6ee917-7dff-4549-b634-914c8ae8a6d9",
   "metadata": {},
   "outputs": [],
   "source": [
    "mpl.rcParams['xtick.direction'] = 'in'\n",
    "mpl.rcParams['ytick.direction'] = 'in'\n",
    "mpl.rcParams['xtick.top'] = True\n",
    "mpl.rcParams['ytick.right'] = True\n",
    "mpl.rcParams['xtick.labelsize'] = 14\n",
    "mpl.rcParams['ytick.labelsize'] = 14\n",
    "mpl.rcParams['axes.labelsize'] = 16\n",
    "mpl.rcParams['legend.fontsize'] = 12 # 14\n",
    "mpl.rcParams['legend.labelspacing'] = 0.25\n",
    "FS = 18\n",
    "FS2 = 15\n",
    "FS3 = 13\n",
    "FSL = 22\n",
    "\n",
    "mpl.rcParams['xtick.major.size'] = 6\n",
    "mpl.rcParams['xtick.minor.size'] = 3\n",
    "mpl.rcParams['ytick.major.size'] = 6\n",
    "mpl.rcParams['ytick.minor.size'] = 3\n",
    "\n",
    "#mpl.rcParams.keys()"
   ]
  },
  {
   "cell_type": "markdown",
   "id": "4184a22e-410b-436c-afa3-ee7351d76c87",
   "metadata": {},
   "source": [
    "# Example usage of NeuralRatioEstimator\n",
    "### simple NRE using Sequential NN tested on linear Gaussian problem"
   ]
  },
  {
   "cell_type": "markdown",
   "id": "e79d4de8-286e-4bb0-9f64-20be08aa22d5",
   "metadata": {},
   "source": [
    "## Simulator setup"
   ]
  },
  {
   "cell_type": "code",
   "execution_count": 3,
   "id": "654e7edb-407e-41b4-a0d4-ce5f4e3f895b",
   "metadata": {},
   "outputs": [],
   "source": [
    "nparam = 2\n",
    "ndata = 10\n",
    "\n",
    "class MyNRE(NeuralRatioEstimator):\n",
    "    def __init__(self,params={}):\n",
    "        NeuralRatioEstimator.__init__(self,params=params)\n",
    "\n",
    "        # data variables and noise\n",
    "        self.xvals = np.linspace(-1,2,ndata)\n",
    "        self.sigma = np.linspace(0.1,0.5,ndata)\n",
    "\n",
    "        # prior mean,std\n",
    "        self.prior_mean = np.array([0.0,0.0])\n",
    "        self.prior_std = np.array([20.0,20.0])\n",
    "        \n",
    "        # # prior bounds\n",
    "        # self.theta_min = np.array([-10.0,-3.0])\n",
    "        # self.theta_max = np.array([10.0,3.0])\n",
    "        # self.dtheta = self.theta_max - self.theta_min        \n",
    "\n",
    "        return\n",
    "    \n",
    "    def simulator(self,theta):\n",
    "        out = np.zeros((self.xvals.size,theta.shape[1]))\n",
    "        ####################\n",
    "        # straight line\n",
    "        for x in range(self.xvals.size):\n",
    "            out[x] = theta[0] + theta[1]*self.xvals[x]\n",
    "        ####################\n",
    "            \n",
    "        noise = self.rng.randn(out.shape[0],out.shape[1])\n",
    "        noise = (noise.T*self.sigma).T\n",
    "        out += noise\n",
    "        \n",
    "        return out\n",
    "\n",
    "    def prior(self,nsamp):\n",
    "        theta = np.zeros((2,nsamp))\n",
    "\n",
    "        # for p in range(theta.shape[0]):\n",
    "        #     theta[p] = self.theta_min[p] + self.rng.rand(nsamp)*self.dtheta[p]\n",
    "        \n",
    "        for p in range(theta.shape[0]):\n",
    "            theta[p] = self.prior_mean[p] + self.rng.randn(nsamp)*self.prior_std[p]\n",
    "            \n",
    "        return theta"
   ]
  },
  {
   "cell_type": "markdown",
   "id": "08bd0d24-65d0-4f58-8d79-c1ba337d5530",
   "metadata": {},
   "source": [
    "## Analytical ratio for linear Gaussian problem\n",
    "#### with design matrix $\\mathcal{M}$, data $y$, data covariance $C$, prior inverse covariance $F_{\\rm (p)}$, prior mean $\\theta_{\\rm (p)}$, we have\n",
    "#### $F = \\mathcal{M}^{\\rm T}C^{-1}\\mathcal{M} + F_{\\rm (p)}$\n",
    "#### $\\hat\\theta = F^{-1}\\left(\\mathcal{M}^{\\rm T}C^{-1}y + F_{\\rm (p)}\\theta_{\\rm (p)}\\right)$\n",
    "#### $-2\\ln p(\\theta|x) = (\\theta-\\hat\\theta)^{\\rm T}\\,F\\,(\\theta-\\hat\\theta) - \\ln{\\rm det}F + M\\ln(2\\pi)$\n",
    "#### $-2\\ln p(\\theta) = (\\theta-\\theta_{\\rm (p)})^{\\rm T}\\,F_{\\rm (p)}\\,(\\theta-\\theta_{\\rm (p)}) - \\ln{\\rm det}F_{\\rm (p)} + M\\ln(2\\pi)$\n",
    "#### $2\\ln r(y,\\theta) = (\\mathcal{M}\\theta)^{\\rm T}C^{-1}(y-\\mathcal{M}\\theta) + \\left(\\mathcal{M}(\\theta-\\hat\\theta)\\right)^{\\rm T}C^{-1}y - (\\hat\\theta-\\theta_{\\rm (p)})^{\\rm T}F_{\\rm (p)}\\theta_{\\rm (p)} + \\ln{\\rm det}FF_{\\rm (p)}^{-1}$"
   ]
  },
  {
   "cell_type": "code",
   "execution_count": 4,
   "id": "318d2fc9-ae55-48b8-b8ce-93acdfd10521",
   "metadata": {},
   "outputs": [],
   "source": [
    "def analytical_nre(nre,X,theta):\n",
    "    designM = np.ones((nre.ndata,nre.nparam))\n",
    "    designM[:,1] = nre.xvals\n",
    "    F_p = np.diagflat(1/nre.prior_std**2)\n",
    "    theta_p = nre.cv(nre.prior_mean)\n",
    "    Cinv = np.diagflat(1/nre.sigma**2)\n",
    "    F = F_p + np.dot(designM.T,np.dot(Cinv,designM))\n",
    "    theta_hat = np.dot(F_p,theta_p)\n",
    "    theta_hat += np.dot(designM.T,np.dot(Cinv,X))\n",
    "    theta_hat = np.dot(linalg.inv(F),theta_hat)\n",
    "\n",
    "    Mtheta = np.dot(designM,theta)\n",
    "    Mtheta_hat = np.dot(designM,theta_hat)\n",
    "\n",
    "    lnr = np.dot(Mtheta.T,np.dot(Cinv,X-Mtheta))\n",
    "    lnr += np.dot((Mtheta-Mtheta_hat).T,np.dot(Cinv,X))\n",
    "    lnr -= np.dot((theta_hat-theta_p).T,np.dot(F_p,theta_p))\n",
    "    lnr += np.log(linalg.det(F)) - np.log(linalg.det(F_p))\n",
    "    lnr *= 0.5\n",
    "    ratio = np.exp(lnr)    \n",
    "    return ratio"
   ]
  },
  {
   "cell_type": "markdown",
   "id": "74d79b25-1541-4234-b959-a72904d03568",
   "metadata": {},
   "source": [
    "## NRE setup and training"
   ]
  },
  {
   "cell_type": "code",
   "execution_count": 64,
   "id": "976f109c-8b09-44e2-9780-e8705267b888",
   "metadata": {},
   "outputs": [
    {
     "name": "stdout",
     "output_type": "stream",
     "text": [
      "... setting up 5 layer feed-forward neural network\n",
      "... ... expecting data dim = 12, target dim = 1\n",
      "... ... using hidden layers of sizes [120,120,120,120]\n",
      "... ... ... and activations [lrelu,lrelu,tanh,tanh]\n",
      "... ... using last activation layer 'sigm'\n",
      "... ... ... with threshold (None means default): None\n",
      "... ... leaky ReLU will use slope = 1.00e-02\n",
      "... ... using loss function 'nll'\n",
      "... ... not using any regularization\n",
      "... ... not using any weight decay\n",
      "0 min 0.01 seconds\n",
      "\n"
     ]
    }
   ],
   "source": [
    "Train = False\n",
    "Lh = 4\n",
    "L_tanh = 2 # 2 # number of layers with tanh activation\n",
    "Standardize = True\n",
    "\n",
    "if L_tanh > Lh:\n",
    "    raise Exception('need L_tanh <= Lh')\n",
    "\n",
    "File_Stem = 'line'\n",
    "params = {'param_dim':nparam,'data_dim':ndata,'standardize':Standardize,\n",
    "          'Lh':Lh,'n_hidden_layer':[120]*Lh,'hidden_atypes':['lrelu']*(Lh-L_tanh)+['tanh']*L_tanh,\n",
    "          'file_stem':File_Stem}\n",
    "\n",
    "start_time = time()\n",
    "nre = MyNRE(params=params)\n",
    "\n",
    "if Train:\n",
    "    NSamp = 2000\n",
    "    params_train = {'max_epoch':1000,'lrate':1e-3,'mb_count':int(np.sqrt(0.8*NSamp)),'val_frac':0.2,'check_after':500}\n",
    "    nre.train(NSamp,params=params_train)\n",
    "    nre.save()\n",
    "else:\n",
    "    nre.load()\n",
    "nre.time_this(start_time)"
   ]
  },
  {
   "cell_type": "code",
   "execution_count": 65,
   "id": "7ea7a583-fd3b-43d3-b5c0-174e5fa9183c",
   "metadata": {},
   "outputs": [],
   "source": [
    "if Train:\n",
    "    plt.yscale('log')\n",
    "    plt.plot(nre.net.epochs,nre.net.epoch_loss,'k-')\n",
    "    plt.plot(nre.net.epochs,nre.net.val_loss,'r-')\n",
    "    plt.show()"
   ]
  },
  {
   "cell_type": "markdown",
   "id": "eb5a49d0-ccbb-47c9-a8fd-3f8c395f4e5b",
   "metadata": {},
   "source": [
    "## Data"
   ]
  },
  {
   "cell_type": "code",
   "execution_count": 66,
   "id": "be0b5e58-1c3c-4ae1-9692-399d7cfb4415",
   "metadata": {},
   "outputs": [],
   "source": [
    "# theta_true = np.array([[1.0,-1.0]]).T # y = 1 - x\n",
    "# data = nre.simulator(theta_true)"
   ]
  },
  {
   "cell_type": "code",
   "execution_count": 67,
   "id": "efe88ade-10ed-4783-a064-f524c99b6e51",
   "metadata": {},
   "outputs": [
    {
     "data": {
      "image/png": "[encoded data removed]",
      "text/plain": [
       "<Figure size 600x600 with 1 Axes>"
      ]
     },
     "metadata": {},
     "output_type": "display_data"
    }
   ],
   "source": [
    "plt.figure(figsize=(6,6))\n",
    "plt.errorbar(nre.xvals,data.T[0],yerr=nre.sigma,c='k',capsize=5,marker='o',ls='none')\n",
    "plt.plot(nre.xvals,theta_true[0,0] + theta_true[1,0]*nre.xvals,'k-')\n",
    "plt.minorticks_on()\n",
    "plt.show()"
   ]
  },
  {
   "cell_type": "code",
   "execution_count": 68,
   "id": "ae3890a1-2c1c-4bda-9358-aa6d7014b21f",
   "metadata": {},
   "outputs": [
    {
     "name": "stdout",
     "output_type": "stream",
     "text": [
      "analytical: 1.101e+04\n",
      "predicted : 1.210e+04\n"
     ]
    }
   ],
   "source": [
    "theta_test = theta_true.copy()\n",
    "print('analytical: {0:.3e}'.format(np.squeeze(analytical_nre(nre,data,theta_test))))\n",
    "print('predicted : {0:.3e}'.format(np.squeeze(nre.predict(data,theta_test))))"
   ]
  },
  {
   "cell_type": "raw",
   "id": "b5cf92f9-ffb0-4f4f-a720-d3b76a1d6fbf",
   "metadata": {},
   "source": [
    "analytical: 1.101e+04\n",
    "predicted : 1.210e+04"
   ]
  },
  {
   "cell_type": "code",
   "execution_count": 63,
   "id": "6c5efb65-52f5-4adc-853b-5bbf613e34ea",
   "metadata": {},
   "outputs": [
    {
     "data": {
      "text/plain": [
       "0.9099173553719008"
      ]
     },
     "execution_count": 63,
     "metadata": {},
     "output_type": "execute_result"
    }
   ],
   "source": [
    "1.101e+04/1.210e+04"
   ]
  },
  {
   "cell_type": "code",
   "execution_count": null,
   "id": "8cbe157e-0910-4ef7-8b67-a6b8cd5af84a",
   "metadata": {},
   "outputs": [],
   "source": []
  }
 ],
 "metadata": {
  "kernelspec": {
   "display_name": "Python 3 (ipykernel)",
   "language": "python",
   "name": "python3"
  },
  "language_info": {
   "codemirror_mode": {
    "name": "ipython",
    "version": 3
   },
   "file_extension": ".py",
   "mimetype": "text/x-python",
   "name": "python",
   "nbconvert_exporter": "python",
   "pygments_lexer": "ipython3",
   "version": "3.11.8"
  }
 },
 "nbformat": 4,
 "nbformat_minor": 5
}
